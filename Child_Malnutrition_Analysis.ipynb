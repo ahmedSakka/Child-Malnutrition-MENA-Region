{
 "cells": [
  {
   "cell_type": "code",
   "execution_count": 1,
   "metadata": {},
   "outputs": [],
   "source": [
    "import pandas as pd"
   ]
  },
  {
   "cell_type": "code",
   "execution_count": 3,
   "metadata": {},
   "outputs": [],
   "source": [
    "files = {\n",
    "    \"Joint_Malnutrition_Estimates\": \"Child_Malnutrition_Analysis/Joint-Malnutrition-Estimates-Regional-and-Global-Estimates-May-2023.xlsx\",\n",
    "    \"FAOSTAT_Agriculture\": \"Child_Malnutrition_Analysis/FAOSTAT_Agriculture.csv\",\n",
    "    \"FAOSTAT_Food_Insecurity\": \"Child_Malnutrition_Analysis/FAOSTAT_Food_Insecurity.csv\",\n",
    "    \"World_Bank_CPI\": \"Child_Malnutrition_Analysis/World_Bank_Consumer_Price_Index.csv\",\n",
    "    \"World_Bank_Fertility_Rate\" :\"Child_Malnutrition_Analysis/World_Bank_Fertility_Rate.csv\",\n",
    "    \"World_Bank_GDP_Per_Capita\": \"Child_Malnutrition_Analysis/World_Bank_GDP_Per_Capita.csv\",\n",
    "    \"World_Bank_Population_Total\": \"Child_Malnutrition_Analysis/World_Bank_Population_Total.csv\",\n",
    "    \"World_Bank_Population_Growth\": \"Child_Malnutrition_Analysis/World_Bank_Population_Growth.csv\",\n",
    "    \"World_Bank_Poverty_at_3.65\": \"Child_Malnutrition_Analysis/World_Bank_Poverty_at_3.65$.csv\",\n",
    "    \"World_Bank_Poverty_at_Societal_Line\": \"Child_Malnutrition_Analysis/World_Bank_Poverty_at_Societal_Line.csv\"\n",
    "}"
   ]
  }
 ],
 "metadata": {
  "kernelspec": {
   "display_name": "base",
   "language": "python",
   "name": "python3"
  },
  "language_info": {
   "codemirror_mode": {
    "name": "ipython",
    "version": 3
   },
   "file_extension": ".py",
   "mimetype": "text/x-python",
   "name": "python",
   "nbconvert_exporter": "python",
   "pygments_lexer": "ipython3",
   "version": "3.10.9"
  }
 },
 "nbformat": 4,
 "nbformat_minor": 2
}
