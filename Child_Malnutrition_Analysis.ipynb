{
 "cells": [
  {
   "cell_type": "code",
   "execution_count": 1,
   "metadata": {},
   "outputs": [],
   "source": [
    "import pandas as pd"
   ]
  },
  {
   "cell_type": "code",
   "execution_count": 9,
   "metadata": {},
   "outputs": [],
   "source": [
    "# Defining a dictionary that contains all the datasets\n",
    "files = {\n",
    "    \"Joint_Malnutrition_Estimates\": \"C:\\\\Users\\\\hp\\\\Downloads\\\\Child_Malnutrition_Analysis\\\\Joint-Malnutrition-Estimates-Regional-and-Global-Estimates-May-2023.xlsx\",\n",
    "    \"FAOSTAT_Agriculture\": \"C:\\\\Users\\\\hp\\\\Downloads\\\\Child_Malnutrition_Analysis\\\\FAOSTAT_Agriculture.csv\",\n",
    "    \"FAOSTAT_Food_Insecurity\": \"C:\\\\Users\\\\hp\\\\Downloads\\\\Child_Malnutrition_Analysis\\\\FAOSTAT_Food_Insecurity.csv\",\n",
    "    \"World_Bank_CPI\": \"C:\\\\Users\\\\hp\\\\Downloads\\\\Child_Malnutrition_Analysis\\\\World_Bank_Consumer_Price_Index.csv\",\n",
    "    \"World_Bank_Fertility_Rate\" :\"C:\\\\Users\\\\hp\\\\Downloads\\\\Child_Malnutrition_Analysis\\\\World_Bank_Fertility_Rate.csv\",\n",
    "    \"World_Bank_GDP_Per_Capita\": \"C:\\\\Users\\\\hp\\\\Downloads\\\\Child_Malnutrition_Analysis\\\\World_Bank_GDP_Per_Capita.csv\",\n",
    "    \"World_Bank_Population_Total\": \"C:\\\\Users\\\\hp\\\\Downloads\\\\Child_Malnutrition_Analysis\\\\World_Bank_Population_Total.csv\",\n",
    "    \"World_Bank_Population_Growth\": \"C:\\\\Users\\\\hp\\\\Downloads\\\\Child_Malnutrition_Analysis\\\\World_Bank_Population_Growth.csv\",\n",
    "    \"World_Bank_Poverty_at_3.65\": \"C:\\\\Users\\\\hp\\\\Downloads\\\\Child_Malnutrition_Analysis\\\\World_Bank_Poverty_at_3.65$.csv\",\n",
    "    \"World_Bank_Poverty_at_Societal_Line\": \"C:\\\\Users\\\\hp\\\\Downloads\\\\Child_Malnutrition_Analysis\\\\World_Bank_Poverty_at_Societal_Line.csv\"\n",
    "}"
   ]
  }
 ],
 "metadata": {
  "kernelspec": {
   "display_name": "base",
   "language": "python",
   "name": "python3"
  },
  "language_info": {
   "codemirror_mode": {
    "name": "ipython",
    "version": 3
   },
   "file_extension": ".py",
   "mimetype": "text/x-python",
   "name": "python",
   "nbconvert_exporter": "python",
   "pygments_lexer": "ipython3",
   "version": "3.10.9"
  }
 },
 "nbformat": 4,
 "nbformat_minor": 2
}
