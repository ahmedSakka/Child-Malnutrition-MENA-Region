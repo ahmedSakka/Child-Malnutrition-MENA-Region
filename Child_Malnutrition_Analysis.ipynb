{
 "cells": [
  {
   "cell_type": "code",
   "execution_count": 1,
   "metadata": {},
   "outputs": [],
   "source": [
    "import pandas as pd"
   ]
  },
  {
   "cell_type": "code",
   "execution_count": 2,
   "metadata": {},
   "outputs": [],
   "source": [
    "# Defining a dictionary that contains all the datasets\n",
    "files = {\n",
    "    \"Joint_Malnutrition_Estimates\": \"C:\\\\Users\\\\hp\\\\Downloads\\\\Child_Malnutrition_Analysis\\\\Joint-Malnutrition-Estimates-Regional-and-Global-Estimates-May-2023.xlsx\",\n",
    "    \"FAOSTAT_Agriculture\": \"C:\\\\Users\\\\hp\\\\Downloads\\\\Child_Malnutrition_Analysis\\\\FAOSTAT_Agriculture.csv\",\n",
    "    \"FAOSTAT_Food_Insecurity\": \"C:\\\\Users\\\\hp\\\\Downloads\\\\Child_Malnutrition_Analysis\\\\FAOSTAT_Food_Insecurity.csv\",\n",
    "    \"World_Bank_CPI\": \"C:\\\\Users\\\\hp\\\\Downloads\\\\Child_Malnutrition_Analysis\\\\World_Bank_Consumer_Price_Index.csv\",\n",
    "    \"World_Bank_Fertility_Rate\" :\"C:\\\\Users\\\\hp\\\\Downloads\\\\Child_Malnutrition_Analysis\\\\World_Bank_Fertility_Rate.csv\",\n",
    "    \"World_Bank_GDP_Per_Capita\": \"C:\\\\Users\\\\hp\\\\Downloads\\\\Child_Malnutrition_Analysis\\\\World_Bank_GDP_Per_Capita.csv\",\n",
    "    \"World_Bank_Population_Total\": \"C:\\\\Users\\\\hp\\\\Downloads\\\\Child_Malnutrition_Analysis\\\\World_Bank_Population_Total.csv\",\n",
    "    \"World_Bank_Population_Growth\": \"C:\\\\Users\\\\hp\\\\Downloads\\\\Child_Malnutrition_Analysis\\\\World_Bank_Population_Growth.csv\",\n",
    "    \"World_Bank_Poverty_at_3.65\": \"C:\\\\Users\\\\hp\\\\Downloads\\\\Child_Malnutrition_Analysis\\\\World_Bank_Poverty_at_3.65$.csv\",\n",
    "    \"World_Bank_Poverty_at_Societal_Line\": \"C:\\\\Users\\\\hp\\\\Downloads\\\\Child_Malnutrition_Analysis\\\\World_Bank_Poverty_at_Societal_Line.csv\"\n",
    "}"
   ]
  },
  {
   "cell_type": "code",
   "execution_count": 3,
   "metadata": {},
   "outputs": [],
   "source": [
    "# Loading the datasets and skipping unnecessary rows\n",
    "agriculture_data = pd.read_csv(files[\"FAOSTAT_Agriculture\"])\n",
    "food_insecurity = pd.read_csv(files[\"FAOSTAT_Food_Insecurity\"])\n",
    "gdp_data = pd.read_csv(files[\"World_Bank_GDP_Per_Capita\"], skiprows=4)\n",
    "cpi_data = pd.read_csv(files[\"World_Bank_CPI\"], skiprows=4)\n",
    "fertility_rate = pd.read_csv(files[\"World_Bank_Fertility_Rate\"], skiprows=4)\n",
    "population_total = pd.read_csv(files[\"World_Bank_Population_Total\"], skiprows=4)\n",
    "population_growth = pd.read_csv(files[\"World_Bank_Population_Growth\"], skiprows=4)\n",
    "poverty_365 = pd.read_csv(files[\"World_Bank_Poverty_at_3.65\"], skiprows=4)\n",
    "poverty_societal = pd.read_csv(files[\"World_Bank_Poverty_at_Societal_Line\"], skiprows=4)\n",
    "\n",
    "# Loading the child malnutrition data and skipping unnecessary rows\n",
    "child_malnutrition = pd.read_excel(files[\"Joint_Malnutrition_Estimates\"], sheet_name=['Stunting - Prevalence', 'Stunting - Numbers Affected',\n",
    "                                                                                      'Wasting - Prevalence & Numbers'], skiprows= 14)"
   ]
  },
  {
   "cell_type": "code",
   "execution_count": 4,
   "metadata": {},
   "outputs": [],
   "source": [
    "# Defining countries in the MENA region\n",
    "mena_countries = [\n",
    "    \"Algeria\", \"Bahrain\", \"Djibouti\", \"Egypt\", \"Iran\", \"Iraq\", \"Jordan\",\n",
    "    \"Kuwait\", \"Lebanon\", \"Libya\", \"Morocco\", \"Oman\", \"Palestine\", \"Qatar\",\n",
    "    \"Saudi Arabia\", \"Sudan\", \"Syria\", \"Tunisia\", \"United Arab Emirates\", \"Yemen\"\n",
    "]"
   ]
  },
  {
   "cell_type": "code",
   "execution_count": 5,
   "metadata": {},
   "outputs": [],
   "source": [
    "# Standardizing Palestine in all datasets (Some datasets define 'West Bank and Gaza' as Palestine)\n",
    "def renaming_Palestine(df, country_col='Country Name'):\n",
    "    df[country_col] = df[country_col].replace('West Bank and Gaza', 'Palestine')\n",
    "    return df"
   ]
  },
  {
   "cell_type": "code",
   "execution_count": null,
   "metadata": {},
   "outputs": [],
   "source": [
    "# Applying the function to relevant datasets (Datasets that has 'West Bank and Gaza' as a country)\n",
    "gdp_data = renaming_Palestine(gdp_data)\n",
    "cpi_data = renaming_Palestine(cpi_data)\n",
    "fertility_rate = renaming_Palestine(fertility_rate)\n",
    "population_growth = renaming_Palestine(population_growth)\n",
    "population_total = renaming_Palestine(population_total)\n",
    "poverty_365 = renaming_Palestine(poverty_365)\n",
    "poverty_societal = renaming_Palestine(poverty_societal)"
   ]
  },
  {
   "cell_type": "code",
   "execution_count": 17,
   "metadata": {},
   "outputs": [],
   "source": [
    "# Filtering the datasets to only include the MENA countries\n",
    "def mena_filter(df, country_col = 'Country Name'):\n",
    "    return df[df[country_col].isin(mena_countries)]\n",
    "\n",
    "# Applying the function to relevant datasets\n",
    "gdp_data = mena_filter(gdp_data)\n",
    "cpi_data = mena_filter(cpi_data)\n",
    "fertility_rate = mena_filter(fertility_rate)\n",
    "population_growth = mena_filter(population_growth)\n",
    "population_total = mena_filter(population_total)\n",
    "poverty_365 = mena_filter(poverty_365)\n",
    "poverty_societal = mena_filter(poverty_societal)"
   ]
  }
 ],
 "metadata": {
  "kernelspec": {
   "display_name": "base",
   "language": "python",
   "name": "python3"
  },
  "language_info": {
   "codemirror_mode": {
    "name": "ipython",
    "version": 3
   },
   "file_extension": ".py",
   "mimetype": "text/x-python",
   "name": "python",
   "nbconvert_exporter": "python",
   "pygments_lexer": "ipython3",
   "version": "3.10.9"
  }
 },
 "nbformat": 4,
 "nbformat_minor": 2
}
