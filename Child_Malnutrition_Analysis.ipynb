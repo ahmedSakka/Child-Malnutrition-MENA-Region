{
 "cells": [
  {
   "cell_type": "code",
   "execution_count": 1,
   "metadata": {},
   "outputs": [],
   "source": [
    "import pandas as pd"
   ]
  },
  {
   "cell_type": "code",
   "execution_count": 2,
   "metadata": {},
   "outputs": [],
   "source": [
    "# Defining a dictionary that contains all the datasets\n",
    "files = {\n",
    "    \"Joint_Malnutrition_Estimates\": \"C:\\\\Users\\\\hp\\\\Downloads\\\\Child_Malnutrition_Analysis\\\\JME_Country_Estimates_May_2023.xlsx\",\n",
    "    \"FAOSTAT_Agriculture\": \"C:\\\\Users\\\\hp\\\\Downloads\\\\Child_Malnutrition_Analysis\\\\FAOSTAT_Agriculture.csv\",\n",
    "    \"FAOSTAT_Food_Insecurity\": \"C:\\\\Users\\\\hp\\\\Downloads\\\\Child_Malnutrition_Analysis\\\\FAOSTAT_Food_Insecurity.csv\",\n",
    "    \"World_Bank_CPI\": \"C:\\\\Users\\\\hp\\\\Downloads\\\\Child_Malnutrition_Analysis\\\\World_Bank_Consumer_Price_Index.csv\",\n",
    "    \"World_Bank_Fertility_Rate\" :\"C:\\\\Users\\\\hp\\\\Downloads\\\\Child_Malnutrition_Analysis\\\\World_Bank_Fertility_Rate.csv\",\n",
    "    \"World_Bank_GDP_Per_Capita\": \"C:\\\\Users\\\\hp\\\\Downloads\\\\Child_Malnutrition_Analysis\\\\World_Bank_GDP_Per_Capita.csv\",\n",
    "    \"World_Bank_Population_Total\": \"C:\\\\Users\\\\hp\\\\Downloads\\\\Child_Malnutrition_Analysis\\\\World_Bank_Population_Total.csv\",\n",
    "    \"World_Bank_Population_Growth\": \"C:\\\\Users\\\\hp\\\\Downloads\\\\Child_Malnutrition_Analysis\\\\World_Bank_Population_Growth.csv\",\n",
    "    \"World_Bank_Poverty_at_3.65\": \"C:\\\\Users\\\\hp\\\\Downloads\\\\Child_Malnutrition_Analysis\\\\World_Bank_Poverty_at_3.65$.csv\",\n",
    "    \"World_Bank_Poverty_at_Societal_Line\": \"C:\\\\Users\\\\hp\\\\Downloads\\\\Child_Malnutrition_Analysis\\\\World_Bank_Poverty_at_Societal_Line.csv\"\n",
    "}"
   ]
  },
  {
   "cell_type": "code",
   "execution_count": 3,
   "metadata": {},
   "outputs": [],
   "source": [
    "# Loading the datasets and skipping unnecessary rows\n",
    "agriculture_data = pd.read_csv(files[\"FAOSTAT_Agriculture\"])\n",
    "food_insecurity = pd.read_csv(files[\"FAOSTAT_Food_Insecurity\"])\n",
    "gdp_data = pd.read_csv(files[\"World_Bank_GDP_Per_Capita\"], skiprows=4)\n",
    "cpi_data = pd.read_csv(files[\"World_Bank_CPI\"], skiprows=4)\n",
    "fertility_rate = pd.read_csv(files[\"World_Bank_Fertility_Rate\"], skiprows=4)\n",
    "population_total = pd.read_csv(files[\"World_Bank_Population_Total\"], skiprows=4)\n",
    "population_growth = pd.read_csv(files[\"World_Bank_Population_Growth\"], skiprows=4)\n",
    "poverty_365 = pd.read_csv(files[\"World_Bank_Poverty_at_3.65\"], skiprows=4)\n",
    "poverty_societal = pd.read_csv(files[\"World_Bank_Poverty_at_Societal_Line\"], skiprows=4)\n",
    "\n",
    "# Loading the child malnutrition data Using the sheets that provide modeled estimates\n",
    "jme_sheets = ['Stunting Proportion (Model)', 'Overweight Proportion (Model)',\n",
    "              'Stunting Numb Affected(Model)', 'Overweight Numb Affected(Model)']\n",
    "child_malnutrition = pd.read_excel(files[\"Joint_Malnutrition_Estimates\"], sheet_name= jme_sheets)"
   ]
  },
  {
   "cell_type": "code",
   "execution_count": 4,
   "metadata": {},
   "outputs": [],
   "source": [
    "# Defining countries in the MENA region\n",
    "mena_countries = [\n",
    "    \"Algeria\", \"Bahrain\", \"Djibouti\", \"Egypt\", \"Iran, Islamic Rep.\", \"Iraq\", \"Jordan\",\n",
    "    \"Kuwait\", \"Lebanon\", \"Libya\", \"Morocco\", \"Oman\", \"Palestine\", \"Qatar\",\n",
    "    \"Saudi Arabia\", \"Sudan\", \"Syria\", \"Tunisia\", \"United Arab Emirates\", \"Yemen\"\n",
    "]"
   ]
  },
  {
   "cell_type": "code",
   "execution_count": 5,
   "metadata": {},
   "outputs": [],
   "source": [
    "# Standardizing Palestine in all datasets (Some datasets define 'West Bank and Gaza' as Palestine)\n",
    "def renaming_Palestine(df, country_col):\n",
    "    df[country_col] = df[country_col].replace(['West Bank and Gaza', 'State of Palestine'], 'Palestine')\n",
    "    return df"
   ]
  },
  {
   "cell_type": "code",
   "execution_count": 6,
   "metadata": {},
   "outputs": [],
   "source": [
    "# Standardizing Iran, Isalmic Rep. in all datasets\n",
    "def renaming_Iran(df, contry_col):\n",
    "    df[contry_col] = df[contry_col].replace('Iran (Islamic Republic of)', 'Iran, Islamic Rep.')\n",
    "    return df\n",
    "\n",
    "# Applying the function to relevant datasets\n",
    "agriculture_data = renaming_Iran(agriculture_data, 'Area')\n",
    "food_insecurity = renaming_Iran(food_insecurity, 'Area')"
   ]
  },
  {
   "cell_type": "code",
   "execution_count": 7,
   "metadata": {},
   "outputs": [],
   "source": [
    "# Applying the function to relevant datasets (Datasets that has 'West Bank and Gaza' as a country)\n",
    "gdp_data = renaming_Palestine(gdp_data, 'Country Name')\n",
    "cpi_data = renaming_Palestine(cpi_data, 'Country Name')\n",
    "fertility_rate = renaming_Palestine(fertility_rate, 'Country Name')\n",
    "population_growth = renaming_Palestine(population_growth, 'Country Name')\n",
    "population_total = renaming_Palestine(population_total, 'Country Name')\n",
    "poverty_365 = renaming_Palestine(poverty_365, 'Country Name')\n",
    "poverty_societal = renaming_Palestine(poverty_societal, 'Country Name')"
   ]
  },
  {
   "cell_type": "code",
   "execution_count": 8,
   "metadata": {},
   "outputs": [],
   "source": [
    "# Iterating through the child malnutrition sheets and applying the renaming functions\n",
    "for sheet_name, df in child_malnutrition.items():\n",
    "    child_malnutrition[sheet_name] = renaming_Palestine(df, 'Country and areas')\n",
    "    child_malnutrition[sheet_name] = renaming_Iran(child_malnutrition[sheet_name], 'Country and areas')"
   ]
  },
  {
   "cell_type": "code",
   "execution_count": 9,
   "metadata": {},
   "outputs": [],
   "source": [
    "# Filtering the datasets to only include the MENA countries\n",
    "def mena_filter(df, country_col):\n",
    "    return df[df[country_col].isin(mena_countries)]\n",
    "\n",
    "# Applying the function to relevant datasets\n",
    "gdp_data = mena_filter(gdp_data, 'Country Name')\n",
    "cpi_data = mena_filter(cpi_data, 'Country Name')\n",
    "fertility_rate = mena_filter(fertility_rate, 'Country Name')\n",
    "population_growth = mena_filter(population_growth, 'Country Name')\n",
    "population_total = mena_filter(population_total, 'Country Name')\n",
    "poverty_365 = mena_filter(poverty_365, 'Country Name')\n",
    "poverty_societal = mena_filter(poverty_societal, 'Country Name')"
   ]
  },
  {
   "cell_type": "code",
   "execution_count": 10,
   "metadata": {},
   "outputs": [],
   "source": [
    "# Iterating through the child malnutrition sheets and applying the filtering function\n",
    "for sheet_name, df in child_malnutrition.items():\n",
    "    child_malnutrition[sheet_name] = mena_filter(df, 'Country and areas')"
   ]
  },
  {
   "cell_type": "code",
   "execution_count": 11,
   "metadata": {},
   "outputs": [
    {
     "name": "stdout",
     "output_type": "stream",
     "text": [
      "Algeria\n",
      "Bahrain\n",
      "Djibouti\n",
      "Egypt\n",
      "Iran, Islamic Rep.\n",
      "Iraq\n",
      "Jordan\n",
      "Kuwait\n",
      "Lebanon\n",
      "Libya\n",
      "Morocco\n",
      "Oman\n",
      "Qatar\n",
      "Saudi Arabia\n",
      "Palestine\n",
      "Sudan\n",
      "Tunisia\n",
      "United Arab Emirates\n",
      "Yemen\n"
     ]
    }
   ],
   "source": [
    "# Checking if the filtering was successful\n",
    "for i in child_malnutrition[sheet_name]['Country and areas'].unique():\n",
    "    print(i)"
   ]
  },
  {
   "cell_type": "code",
   "execution_count": 12,
   "metadata": {},
   "outputs": [],
   "source": [
    "# Converting JME data from wide format to long format for easier analysis\n",
    "def wide_to_long(df, value_name):\n",
    "    id_vars = ['ISO code', 'Country and areas']\n",
    "    df_long = df.melt(id_vars = id_vars, var_name = 'Year', value_name = value_name)\n",
    "    df_long['Year'] = pd.to_numeric(df_long['Year'], errors='coerce')\n",
    "    return df_long\n",
    "\n",
    "# Applying the function to the JME dataset sheets\n",
    "stunting_model = wide_to_long(child_malnutrition['Stunting Proportion (Model)'], 'Stunting Proportion')\n",
    "overweight_model = wide_to_long(child_malnutrition['Overweight Proportion (Model)'], 'Overweight Proportion')\n",
    "stunting_affected_model = wide_to_long(child_malnutrition['Stunting Numb Affected(Model)'], 'Stunting Numb Affected')\n",
    "overweight_affected_model = wide_to_long(child_malnutrition['Overweight Numb Affected(Model)'], 'Overweight Numb Affected')"
   ]
  },
  {
   "cell_type": "code",
   "execution_count": 20,
   "metadata": {},
   "outputs": [],
   "source": [
    "# Merging the JME dataset sheets into one data frame\n",
    "malnutrition_df = stunting_model.merge(overweight_model, on=['ISO code', 'Country and areas', 'Year'], how='outer')\n",
    "malnutrition_df = malnutrition_df.merge(stunting_affected_model, on=['ISO code', 'Country and areas', 'Year'], how='outer')\n",
    "malnutrition_df = malnutrition_df.merge(overweight_affected_model, on=['ISO code', 'Country and areas', 'Year'], how='outer')\n",
    "\n",
    "# Renaming the columns \n",
    "malnutrition_df = malnutrition_df.rename(columns={'Country and areas': 'Country'})"
   ]
  },
  {
   "cell_type": "code",
   "execution_count": 23,
   "metadata": {},
   "outputs": [],
   "source": [
    "# Renaming columns in all datasets for consistency\n",
    "gdp_data = gdp_data.rename(columns={'Country Name': 'Country'})\n",
    "cpi_data = cpi_data.rename(columns={'Country Name': 'Country'})\n",
    "fertility_rate = fertility_rate.rename(columns={'Country Name': 'Country'})\n",
    "population_growth = population_growth.rename(columns={'Country Name': 'Country'})\n",
    "population_total = population_total.rename(columns={'Country Name': 'Country'})\n",
    "poverty_365 = poverty_365.rename(columns={'Country Name': 'Country'})\n",
    "poverty_societal = poverty_societal.rename(columns={'Country Name': 'Country'})\n",
    "agriculture_data = agriculture_data.rename(columns={'Area': 'Country'})\n",
    "food_insecurity = food_insecurity.rename(columns={'Area': 'Country'})"
   ]
  }
 ],
 "metadata": {
  "kernelspec": {
   "display_name": "base",
   "language": "python",
   "name": "python3"
  },
  "language_info": {
   "codemirror_mode": {
    "name": "ipython",
    "version": 3
   },
   "file_extension": ".py",
   "mimetype": "text/x-python",
   "name": "python",
   "nbconvert_exporter": "python",
   "pygments_lexer": "ipython3",
   "version": "3.10.9"
  }
 },
 "nbformat": 4,
 "nbformat_minor": 2
}
